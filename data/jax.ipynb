{
 "cells": [
  {
   "cell_type": "code",
   "execution_count": 1,
   "metadata": {},
   "outputs": [],
   "source": [
    "# https://www.kaggle.com/code/goktugguvercin/gradients-and-jacobians-in-jax\n",
    "import jax\n",
    "import jax.numpy as jnp\n",
    "\n",
    "from jax import random\n",
    "from jax import grad,value_and_grad\n",
    "from jax.test_util import check_grads"
   ]
  },
  {
   "cell_type": "markdown",
   "metadata": {},
   "source": [
    "Jax introduces gradient operator in math as a transformer which takes a python function as input and returns another function which is gradient of given python function.\n",
    "$$\\nabla f(x) = jax.grad(f)$$"
   ]
  },
  {
   "cell_type": "code",
   "execution_count": 2,
   "metadata": {},
   "outputs": [
    {
     "name": "stdout",
     "output_type": "stream",
     "text": [
      "Explicit Gradient Function:  [0.4 0.6]\n",
      "JAX Gradient Function:  [0.4 0.6]\n",
      "\n",
      "Explicit Gradient Function:  [4.8 7.2]\n",
      "JAX Gradient Function:  [4.8 7.2]\n",
      "\n",
      "Explicit Gradient Function:  [8.8 4.2]\n",
      "JAX Gradient Function:  [8.8 4.2]\n",
      "\n"
     ]
    }
   ],
   "source": [
    "# f(x) = x1^2 + x2^2\n",
    "# paraboloid in 3D space\n",
    "def paraboloid(x):\n",
    "    return jnp.sum(x**2)\n",
    "\n",
    "# gradf(x) = [2x1, 2x2]\n",
    "# Our explicit gradient function\n",
    "def g_paraboloid(x):\n",
    "    return 2 * x \n",
    "\n",
    "# JAX's grad operator\n",
    "grad_paraboloid = grad(paraboloid)\n",
    "\n",
    "# three different input\n",
    "input = jnp.array([[0.2, 0.3], [2.4, 3.6], [4.4, 2.1]])\n",
    "for x in input:\n",
    "    print(\"Explicit Gradient Function: \", g_paraboloid(x))\n",
    "    print(\"JAX Gradient Function: \", grad_paraboloid(x))\n",
    "    print(\"\")"
   ]
  },
  {
   "cell_type": "code",
   "execution_count": 3,
   "metadata": {},
   "outputs": [
    {
     "name": "stdout",
     "output_type": "stream",
     "text": [
      "[12.  4. 30.  4. 32.]\n"
     ]
    }
   ],
   "source": [
    "# f(x) = 3x1^2 + 2x2^2 + 5x3^2 + x4^2 + 4x5^2\n",
    "def paraboloid2(coeff, x):\n",
    "    return jnp.sum(coeff * x**2)\n",
    "\n",
    "# taking the gradient of paraboloid w.r.t. x \n",
    "grad_paraboloid2 = grad(paraboloid2, argnums=(1))\n",
    "\n",
    "coefficients = jnp.array([3, 2, 5, 1, 4]) # coefficients\n",
    "input = jnp.array([2., 1., 3., 2., 4.]) # input in R^5\n",
    "\n",
    "\n",
    "print(grad_paraboloid2(coefficients, input))"
   ]
  },
  {
   "cell_type": "code",
   "execution_count": 4,
   "metadata": {},
   "outputs": [
    {
     "name": "stdout",
     "output_type": "stream",
     "text": [
      "True\n"
     ]
    }
   ],
   "source": [
    "key = random.PRNGKey(137)\n",
    "key1, key2 = random.split(key)\n",
    "\n",
    "input = random.uniform(key1, (10, ))  # input vector in R^10\n",
    "trans_matrix = random.uniform(key2, (20, 10))  # transformation matrix of shape 20x10 to project it into R^20\n",
    "\n",
    "def affine_transform(input, matrix):  # transformation function\n",
    "    return matrix @ input\n",
    "    \n",
    "jacobian_fn = jax.jacfwd(affine_transform, argnums=0)  # it returns the function in charge of computing jacobian\n",
    "jacobian = jacobian_fn(input, trans_matrix)  # y = f(x) = Ax, dy/dx = A\n",
    "print(jnp.all(trans_matrix == jacobian))"
   ]
  }
 ],
 "metadata": {
  "kernelspec": {
   "display_name": "base",
   "language": "python",
   "name": "python3"
  },
  "language_info": {
   "codemirror_mode": {
    "name": "ipython",
    "version": 3
   },
   "file_extension": ".py",
   "mimetype": "text/x-python",
   "name": "python",
   "nbconvert_exporter": "python",
   "pygments_lexer": "ipython3",
   "version": "3.11.7"
  }
 },
 "nbformat": 4,
 "nbformat_minor": 2
}
